{
 "cells": [
  {
   "cell_type": "markdown",
   "id": "5a5d0f85",
   "metadata": {},
   "source": [
    "## Analysis Report\n",
    "Riley Schaefer\n",
    "11/20/23"
   ]
  },
  {
   "cell_type": "markdown",
   "id": "252a5366",
   "metadata": {},
   "source": [
    "### Get access to Spotify"
   ]
  },
  {
   "cell_type": "code",
   "execution_count": 1,
   "id": "0764d9e5",
   "metadata": {},
   "outputs": [],
   "source": [
    "import requests\n",
    "import pandas as pd\n",
    "import json\n",
    "import base64\n",
    "import urllib\n",
    "import datetime\n",
    "from matplotlib import pyplot as plt\n",
    "import numpy as np\n",
    "from scipy import stats\n",
    "import sqlite3\n",
    "import pandas as pd\n",
    "chinook = sqlite3.connect(r\"C:\\Users\\rjs06\\EMAT-Data23\\chinook\\chinook.db\")"
   ]
  },
  {
   "cell_type": "code",
   "execution_count": 2,
   "id": "11b58cb2",
   "metadata": {},
   "outputs": [],
   "source": [
    "Client_ID = pd.read_csv('spotify_keys.txt')['Client_ID'].iloc[0]"
   ]
  },
  {
   "cell_type": "code",
   "execution_count": 3,
   "id": "116c1f31",
   "metadata": {},
   "outputs": [],
   "source": [
    "Client_Secret = pd.read_csv('spotify_keys.txt')['Client_Secret'].iloc[0]"
   ]
  },
  {
   "cell_type": "code",
   "execution_count": 4,
   "id": "ef40d396",
   "metadata": {},
   "outputs": [],
   "source": [
    "#Client_ID"
   ]
  },
  {
   "cell_type": "code",
   "execution_count": 5,
   "id": "209eeb44",
   "metadata": {},
   "outputs": [],
   "source": [
    "#Client_Secret"
   ]
  },
  {
   "cell_type": "code",
   "execution_count": 6,
   "id": "fb7b843f",
   "metadata": {},
   "outputs": [],
   "source": [
    "client_cred = base64.b64encode(str(Client_ID + \":\" + Client_Secret).encode('ascii'))"
   ]
  },
  {
   "cell_type": "code",
   "execution_count": 7,
   "id": "166832fa",
   "metadata": {},
   "outputs": [],
   "source": [
    "#client_cred"
   ]
  },
  {
   "cell_type": "code",
   "execution_count": 8,
   "id": "669b9892",
   "metadata": {},
   "outputs": [],
   "source": [
    "headers = {\"Authorization\": \"Basic {}\".format(client_cred.decode(\"ascii\"))}"
   ]
  },
  {
   "cell_type": "code",
   "execution_count": 9,
   "id": "a3b988be",
   "metadata": {},
   "outputs": [],
   "source": [
    "#headers"
   ]
  },
  {
   "cell_type": "code",
   "execution_count": 10,
   "id": "4903a425",
   "metadata": {},
   "outputs": [],
   "source": [
    "payload = {\"grant_type\" : \"client_credentials\"}\n",
    "url = \"https://accounts.spotify.com/api/token\""
   ]
  },
  {
   "cell_type": "code",
   "execution_count": 11,
   "id": "8023f24e",
   "metadata": {},
   "outputs": [],
   "source": [
    "session_key_responce = requests.post(url = url, data = payload, headers = headers)"
   ]
  },
  {
   "cell_type": "code",
   "execution_count": 12,
   "id": "536b369e",
   "metadata": {},
   "outputs": [
    {
     "data": {
      "text/plain": [
       "200"
      ]
     },
     "execution_count": 12,
     "metadata": {},
     "output_type": "execute_result"
    }
   ],
   "source": [
    "session_key_responce.status_code"
   ]
  },
  {
   "cell_type": "code",
   "execution_count": 13,
   "id": "1dd303ba",
   "metadata": {},
   "outputs": [],
   "source": [
    "#session_key_responce.json()"
   ]
  },
  {
   "cell_type": "code",
   "execution_count": 14,
   "id": "4bef5237",
   "metadata": {},
   "outputs": [],
   "source": [
    "session_header_key = session_key_responce.json()"
   ]
  },
  {
   "cell_type": "code",
   "execution_count": 15,
   "id": "2fee6793",
   "metadata": {},
   "outputs": [],
   "source": [
    "key = session_header_key['access_token']"
   ]
  },
  {
   "cell_type": "code",
   "execution_count": 16,
   "id": "52430206",
   "metadata": {},
   "outputs": [],
   "source": [
    "session_headers = {\"Authorization\": \"Bearer {}\".format(key)}"
   ]
  },
  {
   "cell_type": "code",
   "execution_count": 17,
   "id": "5e218a5b",
   "metadata": {},
   "outputs": [],
   "source": [
    "#session_headers"
   ]
  },
  {
   "cell_type": "markdown",
   "id": "7af20fc0",
   "metadata": {},
   "source": [
    "***\n",
    "## Spotify session is loaded, now define endpoints\n",
    "***"
   ]
  },
  {
   "cell_type": "markdown",
   "id": "de6ca7ea",
   "metadata": {},
   "source": [
    "- Divide by Ed Sheeran \n",
    "- Flood by They Might Be Giants\n",
    "\n",
    "I Choose these albums because I have always liked Ed Sheeran and the Flood album has some of the funnest fastest songs that I know of."
   ]
  },
  {
   "cell_type": "markdown",
   "id": "9d19b6cf",
   "metadata": {},
   "source": [
    "\n",
    "### \"Divide\" album\n",
    "***\n",
    "I am choosing dancibility and energy because I like the energy with the music and I like dancing to some of them."
   ]
  },
  {
   "cell_type": "code",
   "execution_count": 18,
   "id": "968c4c34",
   "metadata": {},
   "outputs": [],
   "source": [
    "divide_ID = '3T4tUhGYeRNVUGevb0wThu'"
   ]
  },
  {
   "cell_type": "code",
   "execution_count": 19,
   "id": "f6a7c222",
   "metadata": {},
   "outputs": [],
   "source": [
    "divide_album_url = 'https://api.spotify.com/v1/albums/{}/tracks'.format(divide_ID)"
   ]
  },
  {
   "cell_type": "code",
   "execution_count": 20,
   "id": "61d61540",
   "metadata": {},
   "outputs": [
    {
     "data": {
      "text/plain": [
       "200"
      ]
     },
     "execution_count": 20,
     "metadata": {},
     "output_type": "execute_result"
    }
   ],
   "source": [
    "divide_responce = requests.get(url = divide_album_url, headers = session_headers)\n",
    "divide_responce.status_code"
   ]
  },
  {
   "cell_type": "code",
   "execution_count": 21,
   "id": "03593519",
   "metadata": {},
   "outputs": [
    {
     "data": {
      "text/plain": [
       "dict_keys(['href', 'items', 'limit', 'next', 'offset', 'previous', 'total'])"
      ]
     },
     "execution_count": 21,
     "metadata": {},
     "output_type": "execute_result"
    }
   ],
   "source": [
    "divide_data = json.loads(divide_responce.text)\n",
    "divide_data.keys()"
   ]
  },
  {
   "cell_type": "markdown",
   "id": "9c799449",
   "metadata": {},
   "source": [
    "#### Testing"
   ]
  },
  {
   "cell_type": "code",
   "execution_count": 22,
   "id": "8757fa84",
   "metadata": {
    "scrolled": true
   },
   "outputs": [
    {
     "data": {
      "text/plain": [
       "dict_keys(['artists', 'available_markets', 'disc_number', 'duration_ms', 'explicit', 'external_urls', 'href', 'id', 'is_local', 'name', 'preview_url', 'track_number', 'type', 'uri'])"
      ]
     },
     "execution_count": 22,
     "metadata": {},
     "output_type": "execute_result"
    }
   ],
   "source": [
    "divide_data['items'][0].keys()"
   ]
  },
  {
   "cell_type": "markdown",
   "id": "94e9e719",
   "metadata": {},
   "source": [
    "#### Audio Features"
   ]
  },
  {
   "cell_type": "code",
   "execution_count": 23,
   "id": "202fe0f0",
   "metadata": {},
   "outputs": [],
   "source": [
    "divide_df = pd.DataFrame(divide_data['items'])"
   ]
  },
  {
   "cell_type": "code",
   "execution_count": 24,
   "id": "240f9423",
   "metadata": {},
   "outputs": [
    {
     "data": {
      "text/plain": [
       "'https://api.spotify.com/v1/audio-features?ids=7oolFzHipTMg2nL7shhdz2,6PCUP3dWmTjcTtXY02oFdT,51ChrwmUPDJvedPQnIU8Ls,7qiZfU4dY1lWllzX7mPBI3,0tgVpDi06FyKpA1z0VMD4v,0afhq8XCExXpqazXczTSve,2RttW7RAu5nOAfq6YFvApB,5HDPtsnyb3maFmPL8LLUTG,2dfHh7ECGxfNqZTQno09Vk,2pJZ1v8HezrAoZ0Fhzby92,6PJ8FF6UR8FZXfEvpHkIVN,4VuS959DSpr82t3qBqCrWG,3Lfiu5sZ4M4B6JaKMBc0FU,6SznMYPQJHzr3IwsAHLId2,35QZaWQRkmnAVqBF1TLCxQ,6TIU9Ehmi6dMzZK73Ym4yj'"
      ]
     },
     "execution_count": 24,
     "metadata": {},
     "output_type": "execute_result"
    }
   ],
   "source": [
    "divide_features_url = 'https://api.spotify.com/v1/audio-features?ids={}'.format(','.join(list(divide_df['id'])))\n",
    "divide_features_url"
   ]
  },
  {
   "cell_type": "code",
   "execution_count": 25,
   "id": "292857c2",
   "metadata": {},
   "outputs": [
    {
     "data": {
      "text/plain": [
       "200"
      ]
     },
     "execution_count": 25,
     "metadata": {},
     "output_type": "execute_result"
    }
   ],
   "source": [
    "divide_features_response = requests.get(url = divide_features_url, headers = session_headers)\n",
    "divide_features_response.status_code"
   ]
  },
  {
   "cell_type": "code",
   "execution_count": 26,
   "id": "9d7b9ab6",
   "metadata": {},
   "outputs": [],
   "source": [
    "divide_features = divide_features_response.json()"
   ]
  },
  {
   "cell_type": "markdown",
   "id": "4ff13328",
   "metadata": {},
   "source": [
    "#### Testing"
   ]
  },
  {
   "cell_type": "code",
   "execution_count": 27,
   "id": "8b5bb850",
   "metadata": {},
   "outputs": [
    {
     "data": {
      "text/plain": [
       "dict_keys(['audio_features'])"
      ]
     },
     "execution_count": 27,
     "metadata": {},
     "output_type": "execute_result"
    }
   ],
   "source": [
    "divide_features.keys()"
   ]
  },
  {
   "cell_type": "code",
   "execution_count": 28,
   "id": "f96cc6cd",
   "metadata": {
    "scrolled": true
   },
   "outputs": [
    {
     "data": {
      "text/plain": [
       "dict_keys(['danceability', 'energy', 'key', 'loudness', 'mode', 'speechiness', 'acousticness', 'instrumentalness', 'liveness', 'valence', 'tempo', 'type', 'id', 'uri', 'track_href', 'analysis_url', 'duration_ms', 'time_signature'])"
      ]
     },
     "execution_count": 28,
     "metadata": {},
     "output_type": "execute_result"
    }
   ],
   "source": [
    "divide_features['audio_features'][0].keys()"
   ]
  },
  {
   "cell_type": "code",
   "execution_count": 29,
   "id": "7f2ffa8f",
   "metadata": {
    "scrolled": true
   },
   "outputs": [
    {
     "data": {
      "text/html": [
       "<div>\n",
       "<style scoped>\n",
       "    .dataframe tbody tr th:only-of-type {\n",
       "        vertical-align: middle;\n",
       "    }\n",
       "\n",
       "    .dataframe tbody tr th {\n",
       "        vertical-align: top;\n",
       "    }\n",
       "\n",
       "    .dataframe thead th {\n",
       "        text-align: right;\n",
       "    }\n",
       "</style>\n",
       "<table border=\"1\" class=\"dataframe\">\n",
       "  <thead>\n",
       "    <tr style=\"text-align: right;\">\n",
       "      <th></th>\n",
       "      <th>danceability</th>\n",
       "      <th>energy</th>\n",
       "      <th>key</th>\n",
       "      <th>loudness</th>\n",
       "      <th>mode</th>\n",
       "      <th>speechiness</th>\n",
       "      <th>acousticness</th>\n",
       "      <th>instrumentalness</th>\n",
       "      <th>liveness</th>\n",
       "      <th>valence</th>\n",
       "      <th>tempo</th>\n",
       "      <th>type</th>\n",
       "      <th>id</th>\n",
       "      <th>uri</th>\n",
       "      <th>track_href</th>\n",
       "      <th>analysis_url</th>\n",
       "      <th>duration_ms</th>\n",
       "      <th>time_signature</th>\n",
       "    </tr>\n",
       "  </thead>\n",
       "  <tbody>\n",
       "    <tr>\n",
       "      <th>0</th>\n",
       "      <td>0.640</td>\n",
       "      <td>0.812</td>\n",
       "      <td>8</td>\n",
       "      <td>-5.647</td>\n",
       "      <td>0</td>\n",
       "      <td>0.0834</td>\n",
       "      <td>0.0860</td>\n",
       "      <td>0.000000</td>\n",
       "      <td>0.0509</td>\n",
       "      <td>0.914</td>\n",
       "      <td>86.013</td>\n",
       "      <td>audio_features</td>\n",
       "      <td>7oolFzHipTMg2nL7shhdz2</td>\n",
       "      <td>spotify:track:7oolFzHipTMg2nL7shhdz2</td>\n",
       "      <td>https://api.spotify.com/v1/tracks/7oolFzHipTMg...</td>\n",
       "      <td>https://api.spotify.com/v1/audio-analysis/7ool...</td>\n",
       "      <td>227427</td>\n",
       "      <td>4</td>\n",
       "    </tr>\n",
       "    <tr>\n",
       "      <th>1</th>\n",
       "      <td>0.461</td>\n",
       "      <td>0.834</td>\n",
       "      <td>2</td>\n",
       "      <td>-4.868</td>\n",
       "      <td>1</td>\n",
       "      <td>0.0989</td>\n",
       "      <td>0.0232</td>\n",
       "      <td>0.000011</td>\n",
       "      <td>0.1400</td>\n",
       "      <td>0.471</td>\n",
       "      <td>135.007</td>\n",
       "      <td>audio_features</td>\n",
       "      <td>6PCUP3dWmTjcTtXY02oFdT</td>\n",
       "      <td>spotify:track:6PCUP3dWmTjcTtXY02oFdT</td>\n",
       "      <td>https://api.spotify.com/v1/tracks/6PCUP3dWmTjc...</td>\n",
       "      <td>https://api.spotify.com/v1/audio-analysis/6PCU...</td>\n",
       "      <td>261154</td>\n",
       "      <td>4</td>\n",
       "    </tr>\n",
       "    <tr>\n",
       "      <th>2</th>\n",
       "      <td>0.761</td>\n",
       "      <td>0.386</td>\n",
       "      <td>4</td>\n",
       "      <td>-6.158</td>\n",
       "      <td>1</td>\n",
       "      <td>0.0399</td>\n",
       "      <td>0.3550</td>\n",
       "      <td>0.000000</td>\n",
       "      <td>0.0953</td>\n",
       "      <td>0.526</td>\n",
       "      <td>134.943</td>\n",
       "      <td>audio_features</td>\n",
       "      <td>51ChrwmUPDJvedPQnIU8Ls</td>\n",
       "      <td>spotify:track:51ChrwmUPDJvedPQnIU8Ls</td>\n",
       "      <td>https://api.spotify.com/v1/tracks/51ChrwmUPDJv...</td>\n",
       "      <td>https://api.spotify.com/v1/audio-analysis/51Ch...</td>\n",
       "      <td>238440</td>\n",
       "      <td>3</td>\n",
       "    </tr>\n",
       "    <tr>\n",
       "      <th>3</th>\n",
       "      <td>0.825</td>\n",
       "      <td>0.652</td>\n",
       "      <td>1</td>\n",
       "      <td>-3.183</td>\n",
       "      <td>0</td>\n",
       "      <td>0.0802</td>\n",
       "      <td>0.5810</td>\n",
       "      <td>0.000000</td>\n",
       "      <td>0.0931</td>\n",
       "      <td>0.931</td>\n",
       "      <td>95.977</td>\n",
       "      <td>audio_features</td>\n",
       "      <td>7qiZfU4dY1lWllzX7mPBI3</td>\n",
       "      <td>spotify:track:7qiZfU4dY1lWllzX7mPBI3</td>\n",
       "      <td>https://api.spotify.com/v1/tracks/7qiZfU4dY1lW...</td>\n",
       "      <td>https://api.spotify.com/v1/audio-analysis/7qiZ...</td>\n",
       "      <td>233713</td>\n",
       "      <td>4</td>\n",
       "    </tr>\n",
       "    <tr>\n",
       "      <th>4</th>\n",
       "      <td>0.599</td>\n",
       "      <td>0.448</td>\n",
       "      <td>8</td>\n",
       "      <td>-6.312</td>\n",
       "      <td>1</td>\n",
       "      <td>0.0232</td>\n",
       "      <td>0.1630</td>\n",
       "      <td>0.000000</td>\n",
       "      <td>0.1060</td>\n",
       "      <td>0.168</td>\n",
       "      <td>95.050</td>\n",
       "      <td>audio_features</td>\n",
       "      <td>0tgVpDi06FyKpA1z0VMD4v</td>\n",
       "      <td>spotify:track:0tgVpDi06FyKpA1z0VMD4v</td>\n",
       "      <td>https://api.spotify.com/v1/tracks/0tgVpDi06FyK...</td>\n",
       "      <td>https://api.spotify.com/v1/audio-analysis/0tgV...</td>\n",
       "      <td>263400</td>\n",
       "      <td>3</td>\n",
       "    </tr>\n",
       "  </tbody>\n",
       "</table>\n",
       "</div>"
      ],
      "text/plain": [
       "   danceability  energy  key  loudness  mode  speechiness  acousticness  \\\n",
       "0         0.640   0.812    8    -5.647     0       0.0834        0.0860   \n",
       "1         0.461   0.834    2    -4.868     1       0.0989        0.0232   \n",
       "2         0.761   0.386    4    -6.158     1       0.0399        0.3550   \n",
       "3         0.825   0.652    1    -3.183     0       0.0802        0.5810   \n",
       "4         0.599   0.448    8    -6.312     1       0.0232        0.1630   \n",
       "\n",
       "   instrumentalness  liveness  valence    tempo            type  \\\n",
       "0          0.000000    0.0509    0.914   86.013  audio_features   \n",
       "1          0.000011    0.1400    0.471  135.007  audio_features   \n",
       "2          0.000000    0.0953    0.526  134.943  audio_features   \n",
       "3          0.000000    0.0931    0.931   95.977  audio_features   \n",
       "4          0.000000    0.1060    0.168   95.050  audio_features   \n",
       "\n",
       "                       id                                   uri  \\\n",
       "0  7oolFzHipTMg2nL7shhdz2  spotify:track:7oolFzHipTMg2nL7shhdz2   \n",
       "1  6PCUP3dWmTjcTtXY02oFdT  spotify:track:6PCUP3dWmTjcTtXY02oFdT   \n",
       "2  51ChrwmUPDJvedPQnIU8Ls  spotify:track:51ChrwmUPDJvedPQnIU8Ls   \n",
       "3  7qiZfU4dY1lWllzX7mPBI3  spotify:track:7qiZfU4dY1lWllzX7mPBI3   \n",
       "4  0tgVpDi06FyKpA1z0VMD4v  spotify:track:0tgVpDi06FyKpA1z0VMD4v   \n",
       "\n",
       "                                          track_href  \\\n",
       "0  https://api.spotify.com/v1/tracks/7oolFzHipTMg...   \n",
       "1  https://api.spotify.com/v1/tracks/6PCUP3dWmTjc...   \n",
       "2  https://api.spotify.com/v1/tracks/51ChrwmUPDJv...   \n",
       "3  https://api.spotify.com/v1/tracks/7qiZfU4dY1lW...   \n",
       "4  https://api.spotify.com/v1/tracks/0tgVpDi06FyK...   \n",
       "\n",
       "                                        analysis_url  duration_ms  \\\n",
       "0  https://api.spotify.com/v1/audio-analysis/7ool...       227427   \n",
       "1  https://api.spotify.com/v1/audio-analysis/6PCU...       261154   \n",
       "2  https://api.spotify.com/v1/audio-analysis/51Ch...       238440   \n",
       "3  https://api.spotify.com/v1/audio-analysis/7qiZ...       233713   \n",
       "4  https://api.spotify.com/v1/audio-analysis/0tgV...       263400   \n",
       "\n",
       "   time_signature  \n",
       "0               4  \n",
       "1               4  \n",
       "2               3  \n",
       "3               4  \n",
       "4               3  "
      ]
     },
     "execution_count": 29,
     "metadata": {},
     "output_type": "execute_result"
    }
   ],
   "source": [
    "divide_features_df = pd.DataFrame(divide_features['audio_features'])\n",
    "divide_features_df.head()"
   ]
  },
  {
   "cell_type": "markdown",
   "id": "3b0155a5",
   "metadata": {},
   "source": [
    "\n",
    "### \"Flood\" album\n",
    "***\n",
    "I am choosing dancibility and energy because those are the ones I picked for the last album."
   ]
  },
  {
   "cell_type": "code",
   "execution_count": 30,
   "id": "0080dfd2",
   "metadata": {},
   "outputs": [],
   "source": [
    "flood_ID = '7FwAtuhhWivxvK4aPgyyUD'"
   ]
  },
  {
   "cell_type": "code",
   "execution_count": 31,
   "id": "27333808",
   "metadata": {},
   "outputs": [],
   "source": [
    "flood_album_url = 'https://api.spotify.com/v1/albums/{}/tracks'.format(flood_ID)"
   ]
  },
  {
   "cell_type": "code",
   "execution_count": 32,
   "id": "4a5a1d84",
   "metadata": {},
   "outputs": [
    {
     "data": {
      "text/plain": [
       "200"
      ]
     },
     "execution_count": 32,
     "metadata": {},
     "output_type": "execute_result"
    }
   ],
   "source": [
    "flood_responce = requests.get(url = flood_album_url, headers = session_headers)\n",
    "flood_responce.status_code"
   ]
  },
  {
   "cell_type": "code",
   "execution_count": 33,
   "id": "b0f82fdb",
   "metadata": {},
   "outputs": [
    {
     "data": {
      "text/plain": [
       "dict_keys(['href', 'items', 'limit', 'next', 'offset', 'previous', 'total'])"
      ]
     },
     "execution_count": 33,
     "metadata": {},
     "output_type": "execute_result"
    }
   ],
   "source": [
    "flood_data = json.loads(flood_responce.text)\n",
    "flood_data.keys()"
   ]
  },
  {
   "cell_type": "markdown",
   "id": "42b49a15",
   "metadata": {},
   "source": [
    "#### Testing"
   ]
  },
  {
   "cell_type": "code",
   "execution_count": 34,
   "id": "5de657cb",
   "metadata": {
    "scrolled": true
   },
   "outputs": [
    {
     "data": {
      "text/plain": [
       "dict_keys(['artists', 'available_markets', 'disc_number', 'duration_ms', 'explicit', 'external_urls', 'href', 'id', 'is_local', 'name', 'preview_url', 'track_number', 'type', 'uri'])"
      ]
     },
     "execution_count": 34,
     "metadata": {},
     "output_type": "execute_result"
    }
   ],
   "source": [
    "flood_data['items'][0].keys()"
   ]
  },
  {
   "cell_type": "markdown",
   "id": "a832f3ef",
   "metadata": {},
   "source": [
    "#### Audio Features"
   ]
  },
  {
   "cell_type": "code",
   "execution_count": 35,
   "id": "42c2375c",
   "metadata": {},
   "outputs": [],
   "source": [
    "flood_df = pd.DataFrame(flood_data['items'])"
   ]
  },
  {
   "cell_type": "code",
   "execution_count": 36,
   "id": "352c4825",
   "metadata": {},
   "outputs": [
    {
     "data": {
      "text/plain": [
       "'https://api.spotify.com/v1/audio-features?ids=12l8e8JfVOgX7jQewjyNbU,6pmuu4qSz2WrtGkBjUfyuz,2kVSOg4uN0TNQ18L0NxUJ1,63vL5oxWrlvaJ0ayNaQnbX,0nKGeWn6Y4VEbRdSRJ3Y6P,6hNrg9cIjyWuklYGWIduy5,1WFCIkoc4PaN7L7SmiI85i,3BipmSxrqzUViKV3nLNCV5,3MQ2v8wNLG8TnKxZtPecao,638q39gPCdekT59LnjD4Ob,1yaq30bwwALbJfIYVBIwj4,3ZpapZEZgcT8tdMuQnEMPk,1xdxGBQw0RctB6mRaR4mDl,3kXHsKV1WBrpZbknSEcCa9,6Jok0WfJ1xTKdhyNQ15CIH,3Kmjjksjt9LXBapg8442NU,3VOrUgVDqhY20TahZMK90H,10F47eaBAie50PZe5b8H4h,7gqu3xOxeQJF1MmERBuMOw'"
      ]
     },
     "execution_count": 36,
     "metadata": {},
     "output_type": "execute_result"
    }
   ],
   "source": [
    "flood_features_url = 'https://api.spotify.com/v1/audio-features?ids={}'.format(','.join(list(flood_df['id'])))\n",
    "flood_features_url"
   ]
  },
  {
   "cell_type": "code",
   "execution_count": 37,
   "id": "9cbe6395",
   "metadata": {},
   "outputs": [
    {
     "data": {
      "text/plain": [
       "200"
      ]
     },
     "execution_count": 37,
     "metadata": {},
     "output_type": "execute_result"
    }
   ],
   "source": [
    "flood_features_response = requests.get(url = flood_features_url, headers = session_headers)\n",
    "flood_features_response.status_code"
   ]
  },
  {
   "cell_type": "code",
   "execution_count": 38,
   "id": "6597a9e5",
   "metadata": {},
   "outputs": [],
   "source": [
    "flood_features = flood_features_response.json()"
   ]
  },
  {
   "cell_type": "markdown",
   "id": "a3517640",
   "metadata": {},
   "source": [
    "#### Testing"
   ]
  },
  {
   "cell_type": "code",
   "execution_count": 39,
   "id": "101686b8",
   "metadata": {},
   "outputs": [
    {
     "data": {
      "text/plain": [
       "dict_keys(['audio_features'])"
      ]
     },
     "execution_count": 39,
     "metadata": {},
     "output_type": "execute_result"
    }
   ],
   "source": [
    "flood_features.keys()"
   ]
  },
  {
   "cell_type": "code",
   "execution_count": 40,
   "id": "e1251c21",
   "metadata": {
    "scrolled": false
   },
   "outputs": [
    {
     "data": {
      "text/plain": [
       "dict_keys(['danceability', 'energy', 'key', 'loudness', 'mode', 'speechiness', 'acousticness', 'instrumentalness', 'liveness', 'valence', 'tempo', 'type', 'id', 'uri', 'track_href', 'analysis_url', 'duration_ms', 'time_signature'])"
      ]
     },
     "execution_count": 40,
     "metadata": {},
     "output_type": "execute_result"
    }
   ],
   "source": [
    "flood_features['audio_features'][0].keys()"
   ]
  },
  {
   "cell_type": "code",
   "execution_count": 41,
   "id": "d0e137d6",
   "metadata": {},
   "outputs": [
    {
     "data": {
      "text/html": [
       "<div>\n",
       "<style scoped>\n",
       "    .dataframe tbody tr th:only-of-type {\n",
       "        vertical-align: middle;\n",
       "    }\n",
       "\n",
       "    .dataframe tbody tr th {\n",
       "        vertical-align: top;\n",
       "    }\n",
       "\n",
       "    .dataframe thead th {\n",
       "        text-align: right;\n",
       "    }\n",
       "</style>\n",
       "<table border=\"1\" class=\"dataframe\">\n",
       "  <thead>\n",
       "    <tr style=\"text-align: right;\">\n",
       "      <th></th>\n",
       "      <th>danceability</th>\n",
       "      <th>energy</th>\n",
       "      <th>key</th>\n",
       "      <th>loudness</th>\n",
       "      <th>mode</th>\n",
       "      <th>speechiness</th>\n",
       "      <th>acousticness</th>\n",
       "      <th>instrumentalness</th>\n",
       "      <th>liveness</th>\n",
       "      <th>valence</th>\n",
       "      <th>tempo</th>\n",
       "      <th>type</th>\n",
       "      <th>id</th>\n",
       "      <th>uri</th>\n",
       "      <th>track_href</th>\n",
       "      <th>analysis_url</th>\n",
       "      <th>duration_ms</th>\n",
       "      <th>time_signature</th>\n",
       "    </tr>\n",
       "  </thead>\n",
       "  <tbody>\n",
       "    <tr>\n",
       "      <th>0</th>\n",
       "      <td>0.490</td>\n",
       "      <td>0.154</td>\n",
       "      <td>9</td>\n",
       "      <td>-17.771</td>\n",
       "      <td>1</td>\n",
       "      <td>0.0461</td>\n",
       "      <td>0.95100</td>\n",
       "      <td>0.000003</td>\n",
       "      <td>0.290</td>\n",
       "      <td>0.783</td>\n",
       "      <td>107.178</td>\n",
       "      <td>audio_features</td>\n",
       "      <td>12l8e8JfVOgX7jQewjyNbU</td>\n",
       "      <td>spotify:track:12l8e8JfVOgX7jQewjyNbU</td>\n",
       "      <td>https://api.spotify.com/v1/tracks/12l8e8JfVOgX...</td>\n",
       "      <td>https://api.spotify.com/v1/audio-analysis/12l8...</td>\n",
       "      <td>27133</td>\n",
       "      <td>1</td>\n",
       "    </tr>\n",
       "    <tr>\n",
       "      <th>1</th>\n",
       "      <td>0.610</td>\n",
       "      <td>0.819</td>\n",
       "      <td>8</td>\n",
       "      <td>-8.323</td>\n",
       "      <td>1</td>\n",
       "      <td>0.0666</td>\n",
       "      <td>0.00381</td>\n",
       "      <td>0.000008</td>\n",
       "      <td>0.285</td>\n",
       "      <td>0.454</td>\n",
       "      <td>100.057</td>\n",
       "      <td>audio_features</td>\n",
       "      <td>6pmuu4qSz2WrtGkBjUfyuz</td>\n",
       "      <td>spotify:track:6pmuu4qSz2WrtGkBjUfyuz</td>\n",
       "      <td>https://api.spotify.com/v1/tracks/6pmuu4qSz2Wr...</td>\n",
       "      <td>https://api.spotify.com/v1/audio-analysis/6pmu...</td>\n",
       "      <td>198920</td>\n",
       "      <td>4</td>\n",
       "    </tr>\n",
       "    <tr>\n",
       "      <th>2</th>\n",
       "      <td>0.687</td>\n",
       "      <td>0.742</td>\n",
       "      <td>7</td>\n",
       "      <td>-10.197</td>\n",
       "      <td>1</td>\n",
       "      <td>0.0537</td>\n",
       "      <td>0.28100</td>\n",
       "      <td>0.000001</td>\n",
       "      <td>0.340</td>\n",
       "      <td>0.580</td>\n",
       "      <td>108.321</td>\n",
       "      <td>audio_features</td>\n",
       "      <td>2kVSOg4uN0TNQ18L0NxUJ1</td>\n",
       "      <td>spotify:track:2kVSOg4uN0TNQ18L0NxUJ1</td>\n",
       "      <td>https://api.spotify.com/v1/tracks/2kVSOg4uN0TN...</td>\n",
       "      <td>https://api.spotify.com/v1/audio-analysis/2kVS...</td>\n",
       "      <td>166667</td>\n",
       "      <td>4</td>\n",
       "    </tr>\n",
       "    <tr>\n",
       "      <th>3</th>\n",
       "      <td>0.688</td>\n",
       "      <td>0.748</td>\n",
       "      <td>5</td>\n",
       "      <td>-9.390</td>\n",
       "      <td>0</td>\n",
       "      <td>0.0377</td>\n",
       "      <td>0.08010</td>\n",
       "      <td>0.004530</td>\n",
       "      <td>0.136</td>\n",
       "      <td>0.892</td>\n",
       "      <td>114.144</td>\n",
       "      <td>audio_features</td>\n",
       "      <td>63vL5oxWrlvaJ0ayNaQnbX</td>\n",
       "      <td>spotify:track:63vL5oxWrlvaJ0ayNaQnbX</td>\n",
       "      <td>https://api.spotify.com/v1/tracks/63vL5oxWrlva...</td>\n",
       "      <td>https://api.spotify.com/v1/audio-analysis/63vL...</td>\n",
       "      <td>153813</td>\n",
       "      <td>4</td>\n",
       "    </tr>\n",
       "    <tr>\n",
       "      <th>4</th>\n",
       "      <td>0.723</td>\n",
       "      <td>0.358</td>\n",
       "      <td>4</td>\n",
       "      <td>-12.406</td>\n",
       "      <td>1</td>\n",
       "      <td>0.0312</td>\n",
       "      <td>0.85300</td>\n",
       "      <td>0.000000</td>\n",
       "      <td>0.108</td>\n",
       "      <td>0.866</td>\n",
       "      <td>82.723</td>\n",
       "      <td>audio_features</td>\n",
       "      <td>0nKGeWn6Y4VEbRdSRJ3Y6P</td>\n",
       "      <td>spotify:track:0nKGeWn6Y4VEbRdSRJ3Y6P</td>\n",
       "      <td>https://api.spotify.com/v1/tracks/0nKGeWn6Y4VE...</td>\n",
       "      <td>https://api.spotify.com/v1/audio-analysis/0nKG...</td>\n",
       "      <td>178733</td>\n",
       "      <td>4</td>\n",
       "    </tr>\n",
       "  </tbody>\n",
       "</table>\n",
       "</div>"
      ],
      "text/plain": [
       "   danceability  energy  key  loudness  mode  speechiness  acousticness  \\\n",
       "0         0.490   0.154    9   -17.771     1       0.0461       0.95100   \n",
       "1         0.610   0.819    8    -8.323     1       0.0666       0.00381   \n",
       "2         0.687   0.742    7   -10.197     1       0.0537       0.28100   \n",
       "3         0.688   0.748    5    -9.390     0       0.0377       0.08010   \n",
       "4         0.723   0.358    4   -12.406     1       0.0312       0.85300   \n",
       "\n",
       "   instrumentalness  liveness  valence    tempo            type  \\\n",
       "0          0.000003     0.290    0.783  107.178  audio_features   \n",
       "1          0.000008     0.285    0.454  100.057  audio_features   \n",
       "2          0.000001     0.340    0.580  108.321  audio_features   \n",
       "3          0.004530     0.136    0.892  114.144  audio_features   \n",
       "4          0.000000     0.108    0.866   82.723  audio_features   \n",
       "\n",
       "                       id                                   uri  \\\n",
       "0  12l8e8JfVOgX7jQewjyNbU  spotify:track:12l8e8JfVOgX7jQewjyNbU   \n",
       "1  6pmuu4qSz2WrtGkBjUfyuz  spotify:track:6pmuu4qSz2WrtGkBjUfyuz   \n",
       "2  2kVSOg4uN0TNQ18L0NxUJ1  spotify:track:2kVSOg4uN0TNQ18L0NxUJ1   \n",
       "3  63vL5oxWrlvaJ0ayNaQnbX  spotify:track:63vL5oxWrlvaJ0ayNaQnbX   \n",
       "4  0nKGeWn6Y4VEbRdSRJ3Y6P  spotify:track:0nKGeWn6Y4VEbRdSRJ3Y6P   \n",
       "\n",
       "                                          track_href  \\\n",
       "0  https://api.spotify.com/v1/tracks/12l8e8JfVOgX...   \n",
       "1  https://api.spotify.com/v1/tracks/6pmuu4qSz2Wr...   \n",
       "2  https://api.spotify.com/v1/tracks/2kVSOg4uN0TN...   \n",
       "3  https://api.spotify.com/v1/tracks/63vL5oxWrlva...   \n",
       "4  https://api.spotify.com/v1/tracks/0nKGeWn6Y4VE...   \n",
       "\n",
       "                                        analysis_url  duration_ms  \\\n",
       "0  https://api.spotify.com/v1/audio-analysis/12l8...        27133   \n",
       "1  https://api.spotify.com/v1/audio-analysis/6pmu...       198920   \n",
       "2  https://api.spotify.com/v1/audio-analysis/2kVS...       166667   \n",
       "3  https://api.spotify.com/v1/audio-analysis/63vL...       153813   \n",
       "4  https://api.spotify.com/v1/audio-analysis/0nKG...       178733   \n",
       "\n",
       "   time_signature  \n",
       "0               1  \n",
       "1               4  \n",
       "2               4  \n",
       "3               4  \n",
       "4               4  "
      ]
     },
     "execution_count": 41,
     "metadata": {},
     "output_type": "execute_result"
    }
   ],
   "source": [
    "flood_features_df = pd.DataFrame(flood_features['audio_features'])\n",
    "flood_features_df.head()"
   ]
  },
  {
   "cell_type": "markdown",
   "id": "a24eefc2",
   "metadata": {},
   "source": [
    "\n",
    "### Histograms\n",
    "***"
   ]
  },
  {
   "cell_type": "code",
   "execution_count": 102,
   "id": "81d31e12",
   "metadata": {},
   "outputs": [
    {
     "data": {
      "image/png": "[encoded data removed]",
      "text/plain": [
       "<Figure size 1100x500 with 2 Axes>"
      ]
     },
     "metadata": {},
     "output_type": "display_data"
    }
   ],
   "source": [
    "fig1, ax1 = plt.subplots(1, 2, figsize = (11, 5))\n",
    "ax1[0].hist(divide_features_df['danceability'],\n",
    "           label = 'Divide')\n",
    "ax1[1].hist(divide_features_df['energy'],\n",
    "           label = 'Divide')\n",
    "ax1[0].hist(flood_features_df['danceability'],\n",
    "           alpha = 0.6,\n",
    "           label = \"Flood\",\n",
    "           color = 'green')\n",
    "ax1[1].hist(flood_features_df['energy'],\n",
    "           alpha = 0.6,\n",
    "           label = 'Flood',\n",
    "           color = 'green')\n",
    "ax1[0].set_xlabel('Danceability')\n",
    "ax1[1].set_xlabel('Energy')\n",
    "ax1[0].set_ylabel('Number of Tracks')\n",
    "ax1[1].set_ylabel('Number of Tracks')\n",
    "ax1[0].set_title('Fequency of tracks in danceability ranges')\n",
    "ax1[1].set_title('Fequency of tracks in energy ranges')\n",
    "plt.show()"
   ]
  },
  {
   "cell_type": "markdown",
   "id": "f10fe271",
   "metadata": {},
   "source": [
    "#### Conclusions\n",
    "As you can see from the histograms, the Flood has more tracks with a higher energy than Divide, but Divide has more tracks with a high danceability than Flood."
   ]
  },
  {
   "cell_type": "markdown",
   "id": "c8fe72ce",
   "metadata": {},
   "source": [
    "\n",
    "### Scatter Plots\n",
    "***"
   ]
  },
  {
   "cell_type": "code",
   "execution_count": 90,
   "id": "86ffc87b",
   "metadata": {
    "scrolled": false
   },
   "outputs": [
    {
     "data": {
      "image/png": "[encoded data removed]",
      "text/plain": [
       "<Figure size 640x480 with 2 Axes>"
      ]
     },
     "metadata": {},
     "output_type": "display_data"
    }
   ],
   "source": [
    "fig2, ax2 = plt.subplots(1, 2)\n",
    "ax2[0].scatter(x=divide_features_df['danceability'], \n",
    "            y=divide_features_df['energy'],\n",
    "            label = 'Divide',\n",
    "            alpha = 0.6)\n",
    "ax2[1].scatter(x=flood_features_df['danceability'], \n",
    "            y=flood_features_df['energy'],\n",
    "            alpha = 0.6)\n",
    "ax2[0].set_title('Divide')\n",
    "ax2[1].set_title('Flood')\n",
    "plt.show()"
   ]
  },
  {
   "cell_type": "code",
   "execution_count": 95,
   "id": "8cc6795c",
   "metadata": {
    "scrolled": false
   },
   "outputs": [
    {
     "data": {
      "image/png": "[encoded data removed]",
      "text/plain": [
       "<Figure size 640x480 with 1 Axes>"
      ]
     },
     "metadata": {},
     "output_type": "display_data"
    }
   ],
   "source": [
    "fig2, ax2 = plt.subplots()\n",
    "ax2.scatter(x=divide_features_df['danceability'], \n",
    "            y=divide_features_df['energy'],\n",
    "            label = 'Divide',\n",
    "            color = 'blue',\n",
    "            marker = 'd',\n",
    "            alpha = 0.6)\n",
    "ax2.scatter(x=flood_features_df['danceability'], \n",
    "            y=flood_features_df['energy'],\n",
    "            label = 'Flood',\n",
    "            color = 'green',\n",
    "            alpha = 0.6)\n",
    "ax2.set_title('Relationship between Danceability and\\nEnergy for Albums: Divide and Flood')\n",
    "ax2.set_xlabel('Danceability')\n",
    "ax2.set_ylabel('Energy')\n",
    "ax2.legend()\n",
    "plt.show()"
   ]
  },
  {
   "cell_type": "markdown",
   "id": "181d881f",
   "metadata": {},
   "source": [
    "\n",
    "### Box Plot\n",
    "I chose to work with Danceability\n",
    "***"
   ]
  },
  {
   "cell_type": "code",
   "execution_count": 98,
   "id": "eb91131f",
   "metadata": {},
   "outputs": [
    {
     "data": {
      "image/png": "[encoded data removed]",
      "text/plain": [
       "<Figure size 640x480 with 1 Axes>"
      ]
     },
     "metadata": {},
     "output_type": "display_data"
    }
   ],
   "source": [
    "div_dance = divide_features_df['danceability']\n",
    "flood_dance = flood_features_df['danceability']\n",
    "\n",
    "divide_xs = [1]*len(div_dance)\n",
    "flood_xs = [2]*len(flood_dance)\n",
    "divide_x_jitter = np.random.uniform(-0.10, 0.10, len(divide_xs))\n",
    "flood_x_jitter = np.random.uniform(-0.10, 0.10, len(flood_xs))\n",
    "\n",
    "\n",
    "fig3, ax3 = plt.subplots()\n",
    "ax3.boxplot(div_dance, positions = [1])\n",
    "ax3.boxplot(flood_dance, positions = [2])\n",
    "ax3.scatter(divide_xs + divide_x_jitter, div_dance, alpha = 0.5)\n",
    "ax3.scatter(flood_xs + flood_x_jitter, flood_dance, alpha = 0.5)\n",
    "\n",
    "plt.show()"
   ]
  }
 ],
 "metadata": {
  "kernelspec": {
   "display_name": "Python 3 (ipykernel)",
   "language": "python",
   "name": "python3"
  },
  "language_info": {
   "codemirror_mode": {
    "name": "ipython",
    "version": 3
   },
   "file_extension": ".py",
   "mimetype": "text/x-python",
   "name": "python",
   "nbconvert_exporter": "python",
   "pygments_lexer": "ipython3",
   "version": "3.11.4"
  }
 },
 "nbformat": 4,
 "nbformat_minor": 5
}
