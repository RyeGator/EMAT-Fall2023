{
 "cells": [
  {
   "cell_type": "markdown",
   "id": "f37dd0d8",
   "metadata": {},
   "source": [
    "### Instagram Likes Data Analaysis\n",
    "#### Riley Schaefer   -   9 / 4\n",
    "\n",
    "I hypothisize that, since I rarly use Instagram, my \"likes data\" will be obscure and seem random. I am hypothisizing that all of my likes are of things that I either needed to like to remember or needed to like to get some sort of credit (a game or class).\n",
    "\n",
    "From this hypothisis, I should be able to see that my likes are not from the same people and, theoreticlly, should be labeled of some sort of game or class. If I am correct, it would mean that I don't use Instrgram for anything other than direct gains.\n",
    "\n",
    "This data is appropriate for this hypothisis because it describes all of my likes within Instagram, as well as, giving information about each like."
   ]
  },
  {
   "cell_type": "markdown",
   "id": "33e14a70",
   "metadata": {},
   "source": [
    "### More Questions\n",
    "\n",
    "Who collected this data?\n",
    "\n",
    "    This data was collected by some sort of bot that orginized my data and sent it to me by my own request.\n",
    "\n",
    "Why was this data collected?\n",
    "\n",
    "    This was collected because Instagram constantly collects data and stores it digitally.\n",
    "\n",
    "In what ways may this data be reliable?\n",
    "\n",
    "    This data is reliable because it describes, in detail, all the posts that I have liked on the entire platform.\n",
    "\n",
    "In what ways may this data be unreliable?\n",
    "\n",
    "    This data is unreliable because it doesn't state whether these are all of my likes or if they are my currently liked posts. To clarify, it might be possible that if I like a post, then remove that like, Instagram may not remember that past like. Furthermore, it is unclear \n"
   ]
  },
  {
   "cell_type": "markdown",
   "id": "fc09aab4",
   "metadata": {},
   "source": [
    "### Import Pandas and Json"
   ]
  },
  {
   "cell_type": "code",
   "execution_count": 1,
   "id": "a21d4c1d",
   "metadata": {},
   "outputs": [],
   "source": [
    "import pandas as pd\n",
    "import json"
   ]
  },
  {
   "cell_type": "markdown",
   "id": "1f401f81",
   "metadata": {},
   "source": [
    "### Import data as likes_data"
   ]
  },
  {
   "cell_type": "code",
   "execution_count": 2,
   "id": "5a3a4064",
   "metadata": {},
   "outputs": [],
   "source": [
    "with open(r\"C:\\Users\\rjs06\\OneDrive\\Documents\\Data in EMAT\\Likes Project\\instagram-riley_schaefer6\\likes\\liked_posts.json\") as j:\n",
    "    likes_data = json.load(j)"
   ]
  },
  {
   "cell_type": "markdown",
   "id": "dff7c5dc",
   "metadata": {},
   "source": [
    "### Draw out keys from likes_data, then from likes_media_likes, then from string_list_data"
   ]
  },
  {
   "cell_type": "code",
   "execution_count": 3,
   "id": "9640800d",
   "metadata": {
    "scrolled": true
   },
   "outputs": [
    {
     "data": {
      "text/plain": [
       "dict_keys(['likes_media_likes'])"
      ]
     },
     "execution_count": 3,
     "metadata": {},
     "output_type": "execute_result"
    }
   ],
   "source": [
    "likes_data.keys()"
   ]
  },
  {
   "cell_type": "code",
   "execution_count": 4,
   "id": "747e12c7",
   "metadata": {
    "scrolled": true
   },
   "outputs": [
    {
     "data": {
      "text/plain": [
       "dict_keys(['title', 'string_list_data'])"
      ]
     },
     "execution_count": 4,
     "metadata": {},
     "output_type": "execute_result"
    }
   ],
   "source": [
    "likes_data['likes_media_likes'][0].keys()"
   ]
  },
  {
   "cell_type": "code",
   "execution_count": 5,
   "id": "1effc874",
   "metadata": {
    "scrolled": true
   },
   "outputs": [
    {
     "data": {
      "text/plain": [
       "dict_keys(['href', 'value', 'timestamp'])"
      ]
     },
     "execution_count": 5,
     "metadata": {},
     "output_type": "execute_result"
    }
   ],
   "source": [
    "likes_data['likes_media_likes'][0]['string_list_data'][0].keys()"
   ]
  },
  {
   "cell_type": "markdown",
   "id": "73095e20",
   "metadata": {},
   "source": [
    "### Draw out value of a key from string_list_data"
   ]
  },
  {
   "cell_type": "code",
   "execution_count": 6,
   "id": "a0116237",
   "metadata": {},
   "outputs": [
    {
     "data": {
      "text/plain": [
       "'https://www.instagram.com/reel/CuZe013pfbQ/'"
      ]
     },
     "execution_count": 6,
     "metadata": {},
     "output_type": "execute_result"
    }
   ],
   "source": [
    "likes_data['likes_media_likes'][0]['string_list_data'][0]['href']"
   ]
  },
  {
   "cell_type": "markdown",
   "id": "2f277462",
   "metadata": {},
   "source": [
    "### Create lists of data for each key in string_list_data"
   ]
  },
  {
   "cell_type": "code",
   "execution_count": 7,
   "id": "6e872940",
   "metadata": {},
   "outputs": [],
   "source": [
    "list_href = [x['string_list_data'][0]['href'] for x in likes_data['likes_media_likes']]\n",
    "list_time = [x['string_list_data'][0]['timestamp'] for x in likes_data['likes_media_likes']]\n",
    "list_val = [x['string_list_data'][0]['value'] for x in likes_data['likes_media_likes']]"
   ]
  },
  {
   "cell_type": "markdown",
   "id": "ad13eb1a",
   "metadata": {},
   "source": [
    "### Create a data frame from the imported data of the inner key, likes_media_likes, called likes_title, but remove the column key string_list_data"
   ]
  },
  {
   "cell_type": "code",
   "execution_count": 36,
   "id": "bb69ddc2",
   "metadata": {},
   "outputs": [],
   "source": [
    "likes_title = pd.DataFrame(likes_data['likes_media_likes']).drop(columns= 'string_list_data')"
   ]
  },
  {
   "cell_type": "markdown",
   "id": "0b6a1271",
   "metadata": {},
   "source": [
    "### Add each list of values from each key as columns into the dataframe likes_title"
   ]
  },
  {
   "cell_type": "code",
   "execution_count": 37,
   "id": "f18b3c6a",
   "metadata": {},
   "outputs": [],
   "source": [
    "likes_title['href'] = list_href\n",
    "likes_title['timestamp'] = list_time\n",
    "likes_title['value'] = list_val"
   ]
  },
  {
   "cell_type": "markdown",
   "id": "d789f724",
   "metadata": {},
   "source": [
    "### Show the data frame"
   ]
  },
  {
   "cell_type": "code",
   "execution_count": 38,
   "id": "521656ce",
   "metadata": {},
   "outputs": [
    {
     "data": {
      "text/html": [
       "<div>\n",
       "<style scoped>\n",
       "    .dataframe tbody tr th:only-of-type {\n",
       "        vertical-align: middle;\n",
       "    }\n",
       "\n",
       "    .dataframe tbody tr th {\n",
       "        vertical-align: top;\n",
       "    }\n",
       "\n",
       "    .dataframe thead th {\n",
       "        text-align: right;\n",
       "    }\n",
       "</style>\n",
       "<table border=\"1\" class=\"dataframe\">\n",
       "  <thead>\n",
       "    <tr style=\"text-align: right;\">\n",
       "      <th></th>\n",
       "      <th>title</th>\n",
       "      <th>href</th>\n",
       "      <th>timestamp</th>\n",
       "      <th>value</th>\n",
       "    </tr>\n",
       "  </thead>\n",
       "  <tbody>\n",
       "    <tr>\n",
       "      <th>0</th>\n",
       "      <td>itsbaefeelings</td>\n",
       "      <td>https://www.instagram.com/reel/CuZe013pfbQ/</td>\n",
       "      <td>1689031917</td>\n",
       "      <td>ð</td>\n",
       "    </tr>\n",
       "    <tr>\n",
       "      <th>1</th>\n",
       "      <td>comedyslam</td>\n",
       "      <td>https://www.instagram.com/reel/Cuf0gM6pXeh/</td>\n",
       "      <td>1689031902</td>\n",
       "      <td>ð</td>\n",
       "    </tr>\n",
       "    <tr>\n",
       "      <th>2</th>\n",
       "      <td>labs_of_insta</td>\n",
       "      <td>https://www.instagram.com/reel/CucgXXWgoVX/</td>\n",
       "      <td>1689031799</td>\n",
       "      <td>ð</td>\n",
       "    </tr>\n",
       "    <tr>\n",
       "      <th>3</th>\n",
       "      <td>intro_vertcat</td>\n",
       "      <td>https://www.instagram.com/reel/CsctIO0guqx/</td>\n",
       "      <td>1689031620</td>\n",
       "      <td>ð</td>\n",
       "    </tr>\n",
       "    <tr>\n",
       "      <th>4</th>\n",
       "      <td>gemneye4real</td>\n",
       "      <td>https://www.instagram.com/reel/CrlbJu7gZk_/</td>\n",
       "      <td>1689031571</td>\n",
       "      <td>ð</td>\n",
       "    </tr>\n",
       "    <tr>\n",
       "      <th>5</th>\n",
       "      <td>crazymemesoftheday</td>\n",
       "      <td>https://www.instagram.com/reel/CrFm0vmqVW_/</td>\n",
       "      <td>1689031472</td>\n",
       "      <td>ð</td>\n",
       "    </tr>\n",
       "    <tr>\n",
       "      <th>6</th>\n",
       "      <td>memes.alpha</td>\n",
       "      <td>https://www.instagram.com/reel/CtMJZoCs5Yc/</td>\n",
       "      <td>1689031308</td>\n",
       "      <td>ð</td>\n",
       "    </tr>\n",
       "    <tr>\n",
       "      <th>7</th>\n",
       "      <td>tamjones1</td>\n",
       "      <td>https://www.instagram.com/reel/CsRkUVKgODe/</td>\n",
       "      <td>1689031276</td>\n",
       "      <td>ð</td>\n",
       "    </tr>\n",
       "    <tr>\n",
       "      <th>8</th>\n",
       "      <td>dustymdouglas</td>\n",
       "      <td>https://www.instagram.com/reel/CuK13qWMUa4/</td>\n",
       "      <td>1689031083</td>\n",
       "      <td>ð</td>\n",
       "    </tr>\n",
       "    <tr>\n",
       "      <th>9</th>\n",
       "      <td>wigleydominic</td>\n",
       "      <td>https://www.instagram.com/reel/CrUXa2ZvHTD/</td>\n",
       "      <td>1689031075</td>\n",
       "      <td>ð</td>\n",
       "    </tr>\n",
       "    <tr>\n",
       "      <th>10</th>\n",
       "      <td>uglysideoftumblr</td>\n",
       "      <td>https://www.instagram.com/reel/CuFQvevImWw/</td>\n",
       "      <td>1689030958</td>\n",
       "      <td>ð</td>\n",
       "    </tr>\n",
       "    <tr>\n",
       "      <th>11</th>\n",
       "      <td>dustymdouglas</td>\n",
       "      <td>https://www.instagram.com/reel/Cre2ZgdMYhd/</td>\n",
       "      <td>1689030889</td>\n",
       "      <td>ð</td>\n",
       "    </tr>\n",
       "    <tr>\n",
       "      <th>12</th>\n",
       "      <td>flighthouse</td>\n",
       "      <td>https://www.instagram.com/reel/Cs-Drmkvs70/</td>\n",
       "      <td>1689030804</td>\n",
       "      <td>ð</td>\n",
       "    </tr>\n",
       "    <tr>\n",
       "      <th>13</th>\n",
       "      <td>co_dells</td>\n",
       "      <td>https://www.instagram.com/reel/Ctwl6L6NR1i/</td>\n",
       "      <td>1689030725</td>\n",
       "      <td>ð</td>\n",
       "    </tr>\n",
       "    <tr>\n",
       "      <th>14</th>\n",
       "      <td>starwars_siths</td>\n",
       "      <td>https://www.instagram.com/reel/Cr1Z84hL9yh/</td>\n",
       "      <td>1689030649</td>\n",
       "      <td>ð</td>\n",
       "    </tr>\n",
       "    <tr>\n",
       "      <th>15</th>\n",
       "      <td>kikiandkilo</td>\n",
       "      <td>https://www.instagram.com/reel/ChsmfYXDIgA/</td>\n",
       "      <td>1689030493</td>\n",
       "      <td>ð</td>\n",
       "    </tr>\n",
       "    <tr>\n",
       "      <th>16</th>\n",
       "      <td>funncatts</td>\n",
       "      <td>https://www.instagram.com/reel/CscNHJhKBXy/</td>\n",
       "      <td>1689030284</td>\n",
       "      <td>ð</td>\n",
       "    </tr>\n",
       "    <tr>\n",
       "      <th>17</th>\n",
       "      <td>dogchubs</td>\n",
       "      <td>https://www.instagram.com/p/CtwJRqBS3Q4/</td>\n",
       "      <td>1689030243</td>\n",
       "      <td>ð</td>\n",
       "    </tr>\n",
       "    <tr>\n",
       "      <th>18</th>\n",
       "      <td>needy.animals</td>\n",
       "      <td>https://www.instagram.com/reel/CtReHRrIV4W/</td>\n",
       "      <td>1689030146</td>\n",
       "      <td>ð</td>\n",
       "    </tr>\n",
       "    <tr>\n",
       "      <th>19</th>\n",
       "      <td>fi.dogs</td>\n",
       "      <td>https://www.instagram.com/reel/CucO0jWp1HM/</td>\n",
       "      <td>1689030052</td>\n",
       "      <td>ð</td>\n",
       "    </tr>\n",
       "    <tr>\n",
       "      <th>20</th>\n",
       "      <td>amazinghumors</td>\n",
       "      <td>https://www.instagram.com/reel/Csmm9R8sIUc/</td>\n",
       "      <td>1689030022</td>\n",
       "      <td>ð</td>\n",
       "    </tr>\n",
       "    <tr>\n",
       "      <th>21</th>\n",
       "      <td>hay_dogs4lifee</td>\n",
       "      <td>https://www.instagram.com/reel/CrqY-ETM9Ku/</td>\n",
       "      <td>1689029968</td>\n",
       "      <td>ð</td>\n",
       "    </tr>\n",
       "    <tr>\n",
       "      <th>22</th>\n",
       "      <td>hampire_hamster</td>\n",
       "      <td>https://www.instagram.com/reel/Cr8-Xghgz4t/</td>\n",
       "      <td>1689029916</td>\n",
       "      <td>ð</td>\n",
       "    </tr>\n",
       "    <tr>\n",
       "      <th>23</th>\n",
       "      <td>omgpupz</td>\n",
       "      <td>https://www.instagram.com/reel/CsUQrtNJ19E/</td>\n",
       "      <td>1689029876</td>\n",
       "      <td>ð</td>\n",
       "    </tr>\n",
       "    <tr>\n",
       "      <th>24</th>\n",
       "      <td>jurassicworldthegame</td>\n",
       "      <td>https://www.instagram.com/p/CuCh_FkvT9H/</td>\n",
       "      <td>1688390959</td>\n",
       "      <td>ð</td>\n",
       "    </tr>\n",
       "  </tbody>\n",
       "</table>\n",
       "</div>"
      ],
      "text/plain": [
       "                   title                                         href  \\\n",
       "0         itsbaefeelings  https://www.instagram.com/reel/CuZe013pfbQ/   \n",
       "1             comedyslam  https://www.instagram.com/reel/Cuf0gM6pXeh/   \n",
       "2          labs_of_insta  https://www.instagram.com/reel/CucgXXWgoVX/   \n",
       "3          intro_vertcat  https://www.instagram.com/reel/CsctIO0guqx/   \n",
       "4           gemneye4real  https://www.instagram.com/reel/CrlbJu7gZk_/   \n",
       "5     crazymemesoftheday  https://www.instagram.com/reel/CrFm0vmqVW_/   \n",
       "6            memes.alpha  https://www.instagram.com/reel/CtMJZoCs5Yc/   \n",
       "7              tamjones1  https://www.instagram.com/reel/CsRkUVKgODe/   \n",
       "8          dustymdouglas  https://www.instagram.com/reel/CuK13qWMUa4/   \n",
       "9          wigleydominic  https://www.instagram.com/reel/CrUXa2ZvHTD/   \n",
       "10      uglysideoftumblr  https://www.instagram.com/reel/CuFQvevImWw/   \n",
       "11         dustymdouglas  https://www.instagram.com/reel/Cre2ZgdMYhd/   \n",
       "12           flighthouse  https://www.instagram.com/reel/Cs-Drmkvs70/   \n",
       "13              co_dells  https://www.instagram.com/reel/Ctwl6L6NR1i/   \n",
       "14        starwars_siths  https://www.instagram.com/reel/Cr1Z84hL9yh/   \n",
       "15           kikiandkilo  https://www.instagram.com/reel/ChsmfYXDIgA/   \n",
       "16             funncatts  https://www.instagram.com/reel/CscNHJhKBXy/   \n",
       "17              dogchubs     https://www.instagram.com/p/CtwJRqBS3Q4/   \n",
       "18         needy.animals  https://www.instagram.com/reel/CtReHRrIV4W/   \n",
       "19               fi.dogs  https://www.instagram.com/reel/CucO0jWp1HM/   \n",
       "20         amazinghumors  https://www.instagram.com/reel/Csmm9R8sIUc/   \n",
       "21        hay_dogs4lifee  https://www.instagram.com/reel/CrqY-ETM9Ku/   \n",
       "22       hampire_hamster  https://www.instagram.com/reel/Cr8-Xghgz4t/   \n",
       "23               omgpupz  https://www.instagram.com/reel/CsUQrtNJ19E/   \n",
       "24  jurassicworldthegame     https://www.instagram.com/p/CuCh_FkvT9H/   \n",
       "\n",
       "     timestamp value  \n",
       "0   1689031917  ð  \n",
       "1   1689031902  ð  \n",
       "2   1689031799  ð  \n",
       "3   1689031620  ð  \n",
       "4   1689031571  ð  \n",
       "5   1689031472  ð  \n",
       "6   1689031308  ð  \n",
       "7   1689031276  ð  \n",
       "8   1689031083  ð  \n",
       "9   1689031075  ð  \n",
       "10  1689030958  ð  \n",
       "11  1689030889  ð  \n",
       "12  1689030804  ð  \n",
       "13  1689030725  ð  \n",
       "14  1689030649  ð  \n",
       "15  1689030493  ð  \n",
       "16  1689030284  ð  \n",
       "17  1689030243  ð  \n",
       "18  1689030146  ð  \n",
       "19  1689030052  ð  \n",
       "20  1689030022  ð  \n",
       "21  1689029968  ð  \n",
       "22  1689029916  ð  \n",
       "23  1689029876  ð  \n",
       "24  1688390959  ð  "
      ]
     },
     "execution_count": 38,
     "metadata": {},
     "output_type": "execute_result"
    }
   ],
   "source": [
    "likes_title"
   ]
  },
  {
   "cell_type": "markdown",
   "id": "4123d76d",
   "metadata": {},
   "source": [
    "My results were completly different from my hypothis. I learned from individuly looking up each of my 24 liked posts that 10 are random videos people made, 14 are about animals, and only one were about a game. As I predicted they would all be game posts, I was very wrong. However, looking back at the posts and through my messages, nearly all of my liked posts were sent to me by a friend."
   ]
  }
 ],
 "metadata": {
  "kernelspec": {
   "display_name": "Python 3 (ipykernel)",
   "language": "python",
   "name": "python3"
  },
  "language_info": {
   "codemirror_mode": {
    "name": "ipython",
    "version": 3
   },
   "file_extension": ".py",
   "mimetype": "text/x-python",
   "name": "python",
   "nbconvert_exporter": "python",
   "pygments_lexer": "ipython3",
   "version": "3.11.4"
  }
 },
 "nbformat": 4,
 "nbformat_minor": 5
}
