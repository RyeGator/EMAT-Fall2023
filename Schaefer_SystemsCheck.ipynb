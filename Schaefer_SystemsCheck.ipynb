{
 "cells": [
  {
   "cell_type": "markdown",
   "id": "5f3e6351",
   "metadata": {},
   "source": [
    "multi-level headings, ordered lists, and basic text and image formats\n",
    "\n",
    "In these Markdown cells describe what you hope to get out of this class"
   ]
  },
  {
   "cell_type": "markdown",
   "id": "75c66ba0",
   "metadata": {},
   "source": [
    "# Hello World\n",
    "## My name is Riley Schaefer.\n",
    "### I want to learn the following things in this class:\n",
    "1. Learn the **Python** coding language\n",
    "1. How to use **Jupyter Notebooks**\n",
    "1. How to better read command line code\n",
    "1. How to understand ***AND*** use data\n",
    "1. How to get that data\n",
    "\n",
    "![Command prompt Image](https://th.bing.com/th/id/R.3c7fa839104f3343b28bcbf9a3d3db87?rik=cebr2WXD4Xy1rA&riu=http%3a%2f%2fwww.pixelstalk.net%2fwp-content%2fuploads%2f2016%2f10%2fImage-of-Binary-Code-1.jpg&ehk=Ose2St9faVfeSJL8DcDhZlNDFjAdcHJ8D9cfnbf6hlM%3d&risl=&pid=ImgRaw&r=0)"
   ]
  },
  {
   "cell_type": "code",
   "execution_count": null,
   "id": "f023bf8e",
   "metadata": {},
   "outputs": [],
   "source": []
  }
 ],
 "metadata": {
  "kernelspec": {
   "display_name": "Python 3 (ipykernel)",
   "language": "python",
   "name": "python3"
  },
  "language_info": {
   "codemirror_mode": {
    "name": "ipython",
    "version": 3
   },
   "file_extension": ".py",
   "mimetype": "text/x-python",
   "name": "python",
   "nbconvert_exporter": "python",
   "pygments_lexer": "ipython3",
   "version": "3.11.4"
  }
 },
 "nbformat": 4,
 "nbformat_minor": 5
}
